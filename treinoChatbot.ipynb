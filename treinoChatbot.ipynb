{
 "cells": [
  {
   "cell_type": "code",
   "execution_count": 1,
   "id": "446af066-c1b2-49fa-af58-ba1d3bde474a",
   "metadata": {},
   "outputs": [
    {
     "name": "stdout",
     "output_type": "stream",
     "text": [
      "✔ Download and installation successful\n",
      "You can now load the package via spacy.load('en_core_web_sm')\n"
     ]
    }
   ],
   "source": [
    "from chatterbot import ChatBot\n",
    "from chatterbot.trainers import ListTrainer\n",
    "\n",
    "#para corrigir o bug\n",
    "from spacy.cli import download\n",
    "\n",
    "download(\"en_core_web_sm\")\n",
    "\n",
    "class ENGSM:\n",
    "    ISO_639_1 = 'en_core_web_sm'"
   ]
  },
  {
   "cell_type": "code",
   "execution_count": 2,
   "id": "a00c60e9",
   "metadata": {},
   "outputs": [],
   "source": [
    "chatbot = ChatBot(\"Biazinha\", tagger_language=ENGSM)"
   ]
  },
  {
   "cell_type": "code",
   "execution_count": 7,
   "id": "3c1939f4",
   "metadata": {},
   "outputs": [
    {
     "name": "stdout",
     "output_type": "stream",
     "text": [
      "List Trainer: [####################] 100%\n"
     ]
    }
   ],
   "source": [
    "#treinando o chatbot\n",
    "conversa = [\n",
    "    \"Oi\",\n",
    "    \"Olá\",\n",
    "    \"Como vai?\",\n",
    "    \"Bem e você?\",\n",
    "    \"Vou bem também\",\n",
    "    \"O que irá fazer amanhã?\",\n",
    "    \"Irei andar de bike, vamos?\"\n",
    "    \"Que legal mas não, obrigada\"\n",
    "]\n",
    "\n",
    "trainer = ListTrainer(chatbot)\n",
    "trainer.train(conversa)"
   ]
  },
  {
   "cell_type": "code",
   "execution_count": 8,
   "id": "315dd3f4",
   "metadata": {},
   "outputs": [
    {
     "name": "stdout",
     "output_type": "stream",
     "text": [
      "Mande uma mensagem para o chatbot:1\n",
      "OneDrive\\Faculdade\u0004º semestre\\EstruturaDeDados\\TP03.pdf\n",
      "Mande uma mensagem para o chatbot:2\n",
      "OneDrive\\Faculdade\\Certificações\\Beatriz Rocha de Araujo - Curso Python_ avançando na orientação a objetos - Alura.pdf\n",
      "Mande uma mensagem para o chatbot:3\n",
      "Downloads\\Reunião-20240609_111802-Gravação de Reunião.mp4\n",
      "Mande uma mensagem para o chatbot:4\n",
      "Documents\\presencas_2024_1.xlsx\n",
      "Mande uma mensagem para o chatbot:parar\n"
     ]
    }
   ],
   "source": [
    "#implementar o chat\n",
    "while True:\n",
    "    mensagem = input(\"Mande uma mensagem para o chatbot:\")\n",
    "    if mensagem == \"parar\":\n",
    "        break\n",
    "    resposta = chatbot.get_response(mensagem)\n",
    "    print(resposta)\n",
    "\n",
    "\n",
    "#usar o chatbot\n",
    "#chatbot.get_response(resposta)\n",
    "\n",
    "#reiniciar a base de dados\n",
    "#chatbot.storage.drop()"
   ]
  },
  {
   "cell_type": "code",
   "execution_count": null,
   "id": "cb6df8ba",
   "metadata": {},
   "outputs": [],
   "source": [
    "\"1. TP03 - Estrutura de dados\",\n",
    "    \"OneDrive\\Faculdade\\4º semestre\\EstruturaDeDados\\TP03.pdf\",\n",
    "    \"2. Certificação Python\",\n",
    "    \"OneDrive\\Faculdade\\Certificações\\Beatriz Rocha de Araujo - Curso Python_ avançando na orientação a objetos - Alura.pdf\",\n",
    "    \"3. Vídeo trabalho de python\",\n",
    "    \"Downloads\\Reunião-20240609_111802-Gravação de Reunião.mp4\",\n",
    "    \"4. Presenças primeiro semestre\",\n",
    "    \"Documents\\presencas_2024_1.xlsx\""
   ]
  },
  {
   "cell_type": "code",
   "execution_count": null,
   "id": "f2540c74",
   "metadata": {},
   "outputs": [],
   "source": [
    "\"1\",\n",
    "    \"OneDrive\\Faculdade\\4º semestre\\EstruturaDeDados\\TP03.pdf\",\n",
    "    \"2\",\n",
    "    \"OneDrive\\Faculdade\\Certificações\\Beatriz Rocha de Araujo - Curso Python_ avançando na orientação a objetos - Alura.pdf\",\n",
    "    \"3\",\n",
    "    \"Downloads\\Reunião-20240609_111802-Gravação de Reunião.mp4\",\n",
    "    \"4\",\n",
    "    \"Documents\\presencas_2024_1.xlsx\""
   ]
  }
 ],
 "metadata": {
  "kernelspec": {
   "display_name": "Python 3",
   "language": "python",
   "name": "python3"
  },
  "language_info": {
   "codemirror_mode": {
    "name": "ipython",
    "version": 3
   },
   "file_extension": ".py",
   "mimetype": "text/x-python",
   "name": "python",
   "nbconvert_exporter": "python",
   "pygments_lexer": "ipython3",
   "version": "3.6.13"
  }
 },
 "nbformat": 4,
 "nbformat_minor": 5
}
